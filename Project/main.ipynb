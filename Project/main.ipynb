{
 "cells": [
  {
   "cell_type": "code",
   "execution_count": 123,
   "id": "ae120c18",
   "metadata": {},
   "outputs": [],
   "source": [
    "import pandas as pd\n",
    "import numpy as np\n",
    "import matplotlib.pyplot as lt\n",
    "import seaborn as sns"
   ]
  },
  {
   "cell_type": "code",
   "execution_count": 124,
   "id": "eea99fa2",
   "metadata": {},
   "outputs": [],
   "source": [
    "hotel = pd.read_csv('hotel_bookings.csv')"
   ]
  },
  {
   "cell_type": "code",
   "execution_count": 125,
   "id": "ca5c3bd7",
   "metadata": {},
   "outputs": [
    {
     "data": {
      "text/plain": [
       "(119390, 32)"
      ]
     },
     "execution_count": 125,
     "metadata": {},
     "output_type": "execute_result"
    }
   ],
   "source": [
    "hotel.shape"
   ]
  },
  {
   "cell_type": "code",
   "execution_count": 126,
   "id": "f71eaf7d",
   "metadata": {},
   "outputs": [
    {
     "data": {
      "text/plain": [
       "count    119390.000000\n",
       "mean        104.011416\n",
       "std         106.863097\n",
       "min           0.000000\n",
       "25%          18.000000\n",
       "50%          69.000000\n",
       "75%         160.000000\n",
       "max         737.000000\n",
       "Name: lead_time, dtype: float64"
      ]
     },
     "execution_count": 126,
     "metadata": {},
     "output_type": "execute_result"
    }
   ],
   "source": [
    "hotel['lead_time'].describe()"
   ]
  },
  {
   "cell_type": "code",
   "execution_count": 127,
   "id": "0180bb6b",
   "metadata": {},
   "outputs": [
    {
     "data": {
      "text/plain": [
       "Index(['hotel', 'is_canceled', 'lead_time', 'arrival_date_year',\n",
       "       'arrival_date_month', 'arrival_date_week_number',\n",
       "       'arrival_date_day_of_month', 'stays_in_weekend_nights',\n",
       "       'stays_in_week_nights', 'adults', 'children', 'babies', 'meal',\n",
       "       'country', 'market_segment', 'distribution_channel',\n",
       "       'is_repeated_guest', 'previous_cancellations',\n",
       "       'previous_bookings_not_canceled', 'reserved_room_type',\n",
       "       'assigned_room_type', 'booking_changes', 'deposit_type', 'agent',\n",
       "       'company', 'days_in_waiting_list', 'customer_type', 'adr',\n",
       "       'required_car_parking_spaces', 'total_of_special_requests',\n",
       "       'reservation_status', 'reservation_status_date'],\n",
       "      dtype='object')"
      ]
     },
     "execution_count": 127,
     "metadata": {},
     "output_type": "execute_result"
    }
   ],
   "source": [
    "hotel.columns"
   ]
  },
  {
   "cell_type": "code",
   "execution_count": 128,
   "id": "7ff184e0",
   "metadata": {},
   "outputs": [
    {
     "name": "stdout",
     "output_type": "stream",
     "text": [
      "unique: ['Resort Hotel' 'City Hotel'] \n",
      "\n",
      "counts: hotel\n",
      "City Hotel      79330\n",
      "Resort Hotel    40060\n",
      "Name: count, dtype: int64 \n",
      "\n",
      "duplicates: 119388 \n",
      "\n",
      "nulls: 0 \n",
      "\n",
      "count         119390\n",
      "unique             2\n",
      "top       City Hotel\n",
      "freq           79330\n",
      "Name: hotel, dtype: object\n"
     ]
    }
   ],
   "source": [
    "print('unique:', hotel['hotel'].unique(),'\\n')\n",
    "print(\"counts:\",hotel['hotel'].value_counts(),'\\n')\n",
    "print('duplicates:',hotel['hotel'].duplicated().sum(), '\\n')\n",
    "print('nulls:',hotel['hotel'].isna().sum(), '\\n')\n",
    "print(hotel['hotel'].describe())"
   ]
  },
  {
   "cell_type": "code",
   "execution_count": 129,
   "id": "2c6b75ea",
   "metadata": {},
   "outputs": [
    {
     "name": "stdout",
     "output_type": "stream",
     "text": [
      "unique: [0 1] \n",
      "\n",
      "counts: is_canceled\n",
      "0    75166\n",
      "1    44224\n",
      "Name: count, dtype: int64 \n",
      "\n",
      "duplicates: 119388 \n",
      "\n",
      "nulls: 0 \n",
      "\n",
      "count    119390.000000\n",
      "mean          0.370416\n",
      "std           0.482918\n",
      "min           0.000000\n",
      "25%           0.000000\n",
      "50%           0.000000\n",
      "75%           1.000000\n",
      "max           1.000000\n",
      "Name: is_canceled, dtype: float64\n"
     ]
    }
   ],
   "source": [
    "print('unique:', hotel['is_canceled'].unique(),'\\n')\n",
    "print(\"counts:\",hotel['is_canceled'].value_counts(),'\\n')\n",
    "print('duplicates:',hotel['is_canceled'].duplicated().sum(), '\\n')\n",
    "print('nulls:',hotel['is_canceled'].isna().sum(), '\\n')\n",
    "print(hotel['is_canceled'].describe())"
   ]
  },
  {
   "cell_type": "code",
   "execution_count": 130,
   "id": "97841422",
   "metadata": {},
   "outputs": [],
   "source": [
    "cancel =(hotel.groupby('hotel')['is_canceled']).mean().reset_index()"
   ]
  },
  {
   "cell_type": "code",
   "execution_count": 131,
   "id": "a2c8473c",
   "metadata": {},
   "outputs": [],
   "source": [
    "cancel.columns = ['hotel', 'cancellation_rate']"
   ]
  },
  {
   "cell_type": "code",
   "execution_count": 132,
   "id": "60837ec5",
   "metadata": {},
   "outputs": [],
   "source": [
    "cancel['cancellation_rate']= cancel['cancellation_rate']*100"
   ]
  },
  {
   "cell_type": "code",
   "execution_count": 133,
   "id": "8945039a",
   "metadata": {},
   "outputs": [
    {
     "data": {
      "text/html": [
       "<div>\n",
       "<style scoped>\n",
       "    .dataframe tbody tr th:only-of-type {\n",
       "        vertical-align: middle;\n",
       "    }\n",
       "\n",
       "    .dataframe tbody tr th {\n",
       "        vertical-align: top;\n",
       "    }\n",
       "\n",
       "    .dataframe thead th {\n",
       "        text-align: right;\n",
       "    }\n",
       "</style>\n",
       "<table border=\"1\" class=\"dataframe\">\n",
       "  <thead>\n",
       "    <tr style=\"text-align: right;\">\n",
       "      <th></th>\n",
       "      <th>hotel</th>\n",
       "      <th>cancellation_rate</th>\n",
       "    </tr>\n",
       "  </thead>\n",
       "  <tbody>\n",
       "    <tr>\n",
       "      <th>0</th>\n",
       "      <td>City Hotel</td>\n",
       "      <td>41.726963</td>\n",
       "    </tr>\n",
       "    <tr>\n",
       "      <th>1</th>\n",
       "      <td>Resort Hotel</td>\n",
       "      <td>27.763355</td>\n",
       "    </tr>\n",
       "  </tbody>\n",
       "</table>\n",
       "</div>"
      ],
      "text/plain": [
       "          hotel  cancellation_rate\n",
       "0    City Hotel          41.726963\n",
       "1  Resort Hotel          27.763355"
      ]
     },
     "execution_count": 133,
     "metadata": {},
     "output_type": "execute_result"
    }
   ],
   "source": [
    "cancel"
   ]
  },
  {
   "cell_type": "markdown",
   "id": "3b9f2804",
   "metadata": {},
   "source": [
    "### The cancellation rate of the City Hotel is higher than that of the Resort Hotel.\n"
   ]
  },
  {
   "cell_type": "code",
   "execution_count": 134,
   "id": "9057675d",
   "metadata": {},
   "outputs": [
    {
     "name": "stderr",
     "output_type": "stream",
     "text": [
      "C:\\Users\\Dell\\AppData\\Local\\Temp\\ipykernel_4076\\994790029.py:6: FutureWarning: \n",
      "\n",
      "Passing `palette` without assigning `hue` is deprecated and will be removed in v0.14.0. Assign the `x` variable to `hue` and set `legend=False` for the same effect.\n",
      "\n",
      "  sns.barplot(x='hotel', y='cancellation_rate', data=cancel, palette='pastel')\n"
     ]
    },
    {
     "data": {
      "image/png": "[encoded data removed]",
      "text/plain": [
       "<Figure size 600x400 with 1 Axes>"
      ]
     },
     "metadata": {},
     "output_type": "display_data"
    }
   ],
   "source": [
    "import seaborn as sns\n",
    "import matplotlib.pyplot as plt\n",
    "\n",
    "# Bar plot: Cancellation Rate by Hotel Type\n",
    "plt.figure(figsize=(6, 4))\n",
    "sns.barplot(x='hotel', y='cancellation_rate', data=cancel, palette='pastel')\n",
    "\n",
    "plt.title('Cancellation Rate by Hotel Type')\n",
    "plt.ylabel('Cancellation Rate (%)')\n",
    "plt.xlabel('Hotel Type')\n",
    "plt.ylim(0, 100)  # since it's percentage\n",
    "\n",
    "plt.show()\n"
   ]
  },
  {
   "cell_type": "markdown",
   "id": "4dfc5c68",
   "metadata": {},
   "source": [
    "# Q2. Which month have the highest booking?"
   ]
  },
  {
   "cell_type": "code",
   "execution_count": 135,
   "id": "e66fb936",
   "metadata": {},
   "outputs": [
    {
     "data": {
      "text/plain": [
       "Index(['hotel', 'is_canceled', 'lead_time', 'arrival_date_year',\n",
       "       'arrival_date_month', 'arrival_date_week_number',\n",
       "       'arrival_date_day_of_month', 'stays_in_weekend_nights',\n",
       "       'stays_in_week_nights', 'adults', 'children', 'babies', 'meal',\n",
       "       'country', 'market_segment', 'distribution_channel',\n",
       "       'is_repeated_guest', 'previous_cancellations',\n",
       "       'previous_bookings_not_canceled', 'reserved_room_type',\n",
       "       'assigned_room_type', 'booking_changes', 'deposit_type', 'agent',\n",
       "       'company', 'days_in_waiting_list', 'customer_type', 'adr',\n",
       "       'required_car_parking_spaces', 'total_of_special_requests',\n",
       "       'reservation_status', 'reservation_status_date'],\n",
       "      dtype='object')"
      ]
     },
     "execution_count": 135,
     "metadata": {},
     "output_type": "execute_result"
    }
   ],
   "source": [
    "hotel.columns"
   ]
  },
  {
   "cell_type": "code",
   "execution_count": 136,
   "id": "c4309444",
   "metadata": {},
   "outputs": [
    {
     "name": "stdout",
     "output_type": "stream",
     "text": [
      "unique: ['July' 'August' 'September' 'October' 'November' 'December' 'January'\n",
      " 'February' 'March' 'April' 'May' 'June'] \n",
      "\n",
      "counts: arrival_date_month\n",
      "August       13877\n",
      "July         12661\n",
      "May          11791\n",
      "October      11160\n",
      "April        11089\n",
      "June         10939\n",
      "September    10508\n",
      "March         9794\n",
      "February      8068\n",
      "November      6794\n",
      "December      6780\n",
      "January       5929\n",
      "Name: count, dtype: int64 \n",
      "\n",
      "duplicates: 119378 \n",
      "\n",
      "nulls: 0 \n",
      "\n",
      "count     119390\n",
      "unique        12\n",
      "top       August\n",
      "freq       13877\n",
      "Name: arrival_date_month, dtype: object\n"
     ]
    }
   ],
   "source": [
    "print('unique:', hotel['arrival_date_month'].unique(),'\\n')\n",
    "print(\"counts:\",hotel['arrival_date_month'].value_counts(),'\\n')\n",
    "print('duplicates:',hotel['arrival_date_month'].duplicated().sum(), '\\n')\n",
    "print('nulls:',hotel['arrival_date_month'].isna().sum(), '\\n')\n",
    "print(hotel['arrival_date_month'].describe())"
   ]
  },
  {
   "cell_type": "code",
   "execution_count": 137,
   "id": "997e6d81",
   "metadata": {},
   "outputs": [
    {
     "data": {
      "text/plain": [
       "arrival_date_month\n",
       "August       13877\n",
       "July         12661\n",
       "May          11791\n",
       "October      11160\n",
       "April        11089\n",
       "June         10939\n",
       "September    10508\n",
       "March         9794\n",
       "February      8068\n",
       "November      6794\n",
       "December      6780\n",
       "January       5929\n",
       "Name: count, dtype: int64"
      ]
     },
     "execution_count": 137,
     "metadata": {},
     "output_type": "execute_result"
    }
   ],
   "source": [
    "hotel['arrival_date_month'].value_counts()"
   ]
  },
  {
   "cell_type": "code",
   "execution_count": 138,
   "id": "e9025357",
   "metadata": {},
   "outputs": [],
   "source": [
    "\n",
    "month_order = ['January', 'February', 'March', 'April', 'May', 'June',\n",
    "               'July', 'August', 'September', 'October', 'November', 'December']\n",
    "\n",
    "monthly_bookings = hotel['arrival_date_month'].value_counts().reindex(month_order)\n"
   ]
  },
  {
   "cell_type": "code",
   "execution_count": 139,
   "id": "0436a79d",
   "metadata": {},
   "outputs": [
    {
     "data": {
      "text/plain": [
       "pandas.core.series.Series"
      ]
     },
     "execution_count": 139,
     "metadata": {},
     "output_type": "execute_result"
    }
   ],
   "source": [
    "type(monthly_bookings)"
   ]
  },
  {
   "cell_type": "code",
   "execution_count": 140,
   "id": "2d4c0493",
   "metadata": {},
   "outputs": [
    {
     "name": "stderr",
     "output_type": "stream",
     "text": [
      "C:\\Users\\Dell\\AppData\\Local\\Temp\\ipykernel_4076\\114146786.py:2: FutureWarning: \n",
      "\n",
      "Passing `palette` without assigning `hue` is deprecated and will be removed in v0.14.0. Assign the `x` variable to `hue` and set `legend=False` for the same effect.\n",
      "\n",
      "  sns.barplot(x = monthly_bookings.index, y = monthly_bookings.values, palette='pastel' )\n"
     ]
    },
    {
     "data": {
      "image/png": "[encoded data removed]",
      "text/plain": [
       "<Figure size 1200x600 with 1 Axes>"
      ]
     },
     "metadata": {},
     "output_type": "display_data"
    }
   ],
   "source": [
    "plt.figure(figsize=(12,6))\n",
    "sns.barplot(x = monthly_bookings.index, y = monthly_bookings.values, palette='pastel' )\n",
    "plt.title('Number of Bookings per Month')\n",
    "plt.xlabel('Month')\n",
    "plt.ylabel('Number of Bookings')\n",
    "plt.tight_layout()\n",
    "plt.show()"
   ]
  },
  {
   "cell_type": "markdown",
   "id": "f74f2b07",
   "metadata": {},
   "source": [
    "### Ans: **August** month has the **Highest Booking** of **13877** but its **overall**, we still do not know...the yearly trend of the month...what if in some years the booking falls in august!"
   ]
  },
  {
   "cell_type": "code",
   "execution_count": 141,
   "id": "6c209329",
   "metadata": {},
   "outputs": [
    {
     "name": "stdout",
     "output_type": "stream",
     "text": [
      "unique: [2015 2016 2017] \n",
      "\n",
      "counts: arrival_date_year\n",
      "2016    56707\n",
      "2017    40687\n",
      "2015    21996\n",
      "Name: count, dtype: int64 \n",
      "\n",
      "duplicates: 119387 \n",
      "\n",
      "nulls: 0 \n",
      "\n",
      "count    119390.000000\n",
      "mean       2016.156554\n",
      "std           0.707476\n",
      "min        2015.000000\n",
      "25%        2016.000000\n",
      "50%        2016.000000\n",
      "75%        2017.000000\n",
      "max        2017.000000\n",
      "Name: arrival_date_year, dtype: float64\n"
     ]
    }
   ],
   "source": [
    "print('unique:', hotel['arrival_date_year'].unique(),'\\n')\n",
    "print(\"counts:\",hotel['arrival_date_year'].value_counts(),'\\n')\n",
    "print('duplicates:',hotel['arrival_date_year'].duplicated().sum(), '\\n')\n",
    "print('nulls:',hotel['arrival_date_year'].isna().sum(), '\\n')\n",
    "print(hotel['arrival_date_year'].describe())"
   ]
  },
  {
   "cell_type": "code",
   "execution_count": 142,
   "id": "3a4edd7b",
   "metadata": {},
   "outputs": [],
   "source": [
    "monthly_yearly = hotel.groupby(['arrival_date_year', 'arrival_date_month']).size().reset_index(name='Bookings')\n"
   ]
  },
  {
   "cell_type": "code",
   "execution_count": 143,
   "id": "983fb753",
   "metadata": {},
   "outputs": [
    {
     "data": {
      "text/html": [
       "<div>\n",
       "<style scoped>\n",
       "    .dataframe tbody tr th:only-of-type {\n",
       "        vertical-align: middle;\n",
       "    }\n",
       "\n",
       "    .dataframe tbody tr th {\n",
       "        vertical-align: top;\n",
       "    }\n",
       "\n",
       "    .dataframe thead th {\n",
       "        text-align: right;\n",
       "    }\n",
       "</style>\n",
       "<table border=\"1\" class=\"dataframe\">\n",
       "  <thead>\n",
       "    <tr style=\"text-align: right;\">\n",
       "      <th></th>\n",
       "      <th>arrival_date_year</th>\n",
       "      <th>arrival_date_month</th>\n",
       "      <th>Bookings</th>\n",
       "    </tr>\n",
       "  </thead>\n",
       "  <tbody>\n",
       "    <tr>\n",
       "      <th>0</th>\n",
       "      <td>2015</td>\n",
       "      <td>August</td>\n",
       "      <td>3889</td>\n",
       "    </tr>\n",
       "    <tr>\n",
       "      <th>1</th>\n",
       "      <td>2015</td>\n",
       "      <td>December</td>\n",
       "      <td>2920</td>\n",
       "    </tr>\n",
       "    <tr>\n",
       "      <th>2</th>\n",
       "      <td>2015</td>\n",
       "      <td>July</td>\n",
       "      <td>2776</td>\n",
       "    </tr>\n",
       "    <tr>\n",
       "      <th>3</th>\n",
       "      <td>2015</td>\n",
       "      <td>November</td>\n",
       "      <td>2340</td>\n",
       "    </tr>\n",
       "    <tr>\n",
       "      <th>4</th>\n",
       "      <td>2015</td>\n",
       "      <td>October</td>\n",
       "      <td>4957</td>\n",
       "    </tr>\n",
       "    <tr>\n",
       "      <th>5</th>\n",
       "      <td>2015</td>\n",
       "      <td>September</td>\n",
       "      <td>5114</td>\n",
       "    </tr>\n",
       "    <tr>\n",
       "      <th>6</th>\n",
       "      <td>2016</td>\n",
       "      <td>April</td>\n",
       "      <td>5428</td>\n",
       "    </tr>\n",
       "    <tr>\n",
       "      <th>7</th>\n",
       "      <td>2016</td>\n",
       "      <td>August</td>\n",
       "      <td>5063</td>\n",
       "    </tr>\n",
       "    <tr>\n",
       "      <th>8</th>\n",
       "      <td>2016</td>\n",
       "      <td>December</td>\n",
       "      <td>3860</td>\n",
       "    </tr>\n",
       "    <tr>\n",
       "      <th>9</th>\n",
       "      <td>2016</td>\n",
       "      <td>February</td>\n",
       "      <td>3891</td>\n",
       "    </tr>\n",
       "    <tr>\n",
       "      <th>10</th>\n",
       "      <td>2016</td>\n",
       "      <td>January</td>\n",
       "      <td>2248</td>\n",
       "    </tr>\n",
       "    <tr>\n",
       "      <th>11</th>\n",
       "      <td>2016</td>\n",
       "      <td>July</td>\n",
       "      <td>4572</td>\n",
       "    </tr>\n",
       "    <tr>\n",
       "      <th>12</th>\n",
       "      <td>2016</td>\n",
       "      <td>June</td>\n",
       "      <td>5292</td>\n",
       "    </tr>\n",
       "    <tr>\n",
       "      <th>13</th>\n",
       "      <td>2016</td>\n",
       "      <td>March</td>\n",
       "      <td>4824</td>\n",
       "    </tr>\n",
       "    <tr>\n",
       "      <th>14</th>\n",
       "      <td>2016</td>\n",
       "      <td>May</td>\n",
       "      <td>5478</td>\n",
       "    </tr>\n",
       "    <tr>\n",
       "      <th>15</th>\n",
       "      <td>2016</td>\n",
       "      <td>November</td>\n",
       "      <td>4454</td>\n",
       "    </tr>\n",
       "    <tr>\n",
       "      <th>16</th>\n",
       "      <td>2016</td>\n",
       "      <td>October</td>\n",
       "      <td>6203</td>\n",
       "    </tr>\n",
       "    <tr>\n",
       "      <th>17</th>\n",
       "      <td>2016</td>\n",
       "      <td>September</td>\n",
       "      <td>5394</td>\n",
       "    </tr>\n",
       "    <tr>\n",
       "      <th>18</th>\n",
       "      <td>2017</td>\n",
       "      <td>April</td>\n",
       "      <td>5661</td>\n",
       "    </tr>\n",
       "    <tr>\n",
       "      <th>19</th>\n",
       "      <td>2017</td>\n",
       "      <td>August</td>\n",
       "      <td>4925</td>\n",
       "    </tr>\n",
       "    <tr>\n",
       "      <th>20</th>\n",
       "      <td>2017</td>\n",
       "      <td>February</td>\n",
       "      <td>4177</td>\n",
       "    </tr>\n",
       "    <tr>\n",
       "      <th>21</th>\n",
       "      <td>2017</td>\n",
       "      <td>January</td>\n",
       "      <td>3681</td>\n",
       "    </tr>\n",
       "    <tr>\n",
       "      <th>22</th>\n",
       "      <td>2017</td>\n",
       "      <td>July</td>\n",
       "      <td>5313</td>\n",
       "    </tr>\n",
       "    <tr>\n",
       "      <th>23</th>\n",
       "      <td>2017</td>\n",
       "      <td>June</td>\n",
       "      <td>5647</td>\n",
       "    </tr>\n",
       "    <tr>\n",
       "      <th>24</th>\n",
       "      <td>2017</td>\n",
       "      <td>March</td>\n",
       "      <td>4970</td>\n",
       "    </tr>\n",
       "    <tr>\n",
       "      <th>25</th>\n",
       "      <td>2017</td>\n",
       "      <td>May</td>\n",
       "      <td>6313</td>\n",
       "    </tr>\n",
       "  </tbody>\n",
       "</table>\n",
       "</div>"
      ],
      "text/plain": [
       "    arrival_date_year arrival_date_month  Bookings\n",
       "0                2015             August      3889\n",
       "1                2015           December      2920\n",
       "2                2015               July      2776\n",
       "3                2015           November      2340\n",
       "4                2015            October      4957\n",
       "5                2015          September      5114\n",
       "6                2016              April      5428\n",
       "7                2016             August      5063\n",
       "8                2016           December      3860\n",
       "9                2016           February      3891\n",
       "10               2016            January      2248\n",
       "11               2016               July      4572\n",
       "12               2016               June      5292\n",
       "13               2016              March      4824\n",
       "14               2016                May      5478\n",
       "15               2016           November      4454\n",
       "16               2016            October      6203\n",
       "17               2016          September      5394\n",
       "18               2017              April      5661\n",
       "19               2017             August      4925\n",
       "20               2017           February      4177\n",
       "21               2017            January      3681\n",
       "22               2017               July      5313\n",
       "23               2017               June      5647\n",
       "24               2017              March      4970\n",
       "25               2017                May      6313"
      ]
     },
     "execution_count": 143,
     "metadata": {},
     "output_type": "execute_result"
    }
   ],
   "source": [
    "monthly_yearly"
   ]
  },
  {
   "cell_type": "code",
   "execution_count": 144,
   "id": "fa437ba8",
   "metadata": {},
   "outputs": [],
   "source": [
    "\n",
    "monthly_yearly['arrival_date_month'] = pd.Categorical( monthly_yearly['arrival_date_month'], categories=month_order, ordered=True)"
   ]
  },
  {
   "cell_type": "code",
   "execution_count": 145,
   "id": "b2be1c32",
   "metadata": {},
   "outputs": [],
   "source": [
    "monthly_yearly = monthly_yearly.sort_values(['arrival_date_year', 'arrival_date_month'])\n"
   ]
  },
  {
   "cell_type": "code",
   "execution_count": 146,
   "id": "c59a2806",
   "metadata": {},
   "outputs": [
    {
     "data": {
      "text/html": [
       "<div>\n",
       "<style scoped>\n",
       "    .dataframe tbody tr th:only-of-type {\n",
       "        vertical-align: middle;\n",
       "    }\n",
       "\n",
       "    .dataframe tbody tr th {\n",
       "        vertical-align: top;\n",
       "    }\n",
       "\n",
       "    .dataframe thead th {\n",
       "        text-align: right;\n",
       "    }\n",
       "</style>\n",
       "<table border=\"1\" class=\"dataframe\">\n",
       "  <thead>\n",
       "    <tr style=\"text-align: right;\">\n",
       "      <th></th>\n",
       "      <th>arrival_date_year</th>\n",
       "      <th>arrival_date_month</th>\n",
       "      <th>Bookings</th>\n",
       "    </tr>\n",
       "  </thead>\n",
       "  <tbody>\n",
       "    <tr>\n",
       "      <th>2</th>\n",
       "      <td>2015</td>\n",
       "      <td>July</td>\n",
       "      <td>2776</td>\n",
       "    </tr>\n",
       "    <tr>\n",
       "      <th>0</th>\n",
       "      <td>2015</td>\n",
       "      <td>August</td>\n",
       "      <td>3889</td>\n",
       "    </tr>\n",
       "    <tr>\n",
       "      <th>5</th>\n",
       "      <td>2015</td>\n",
       "      <td>September</td>\n",
       "      <td>5114</td>\n",
       "    </tr>\n",
       "    <tr>\n",
       "      <th>4</th>\n",
       "      <td>2015</td>\n",
       "      <td>October</td>\n",
       "      <td>4957</td>\n",
       "    </tr>\n",
       "    <tr>\n",
       "      <th>3</th>\n",
       "      <td>2015</td>\n",
       "      <td>November</td>\n",
       "      <td>2340</td>\n",
       "    </tr>\n",
       "    <tr>\n",
       "      <th>1</th>\n",
       "      <td>2015</td>\n",
       "      <td>December</td>\n",
       "      <td>2920</td>\n",
       "    </tr>\n",
       "    <tr>\n",
       "      <th>10</th>\n",
       "      <td>2016</td>\n",
       "      <td>January</td>\n",
       "      <td>2248</td>\n",
       "    </tr>\n",
       "    <tr>\n",
       "      <th>9</th>\n",
       "      <td>2016</td>\n",
       "      <td>February</td>\n",
       "      <td>3891</td>\n",
       "    </tr>\n",
       "    <tr>\n",
       "      <th>13</th>\n",
       "      <td>2016</td>\n",
       "      <td>March</td>\n",
       "      <td>4824</td>\n",
       "    </tr>\n",
       "    <tr>\n",
       "      <th>6</th>\n",
       "      <td>2016</td>\n",
       "      <td>April</td>\n",
       "      <td>5428</td>\n",
       "    </tr>\n",
       "    <tr>\n",
       "      <th>14</th>\n",
       "      <td>2016</td>\n",
       "      <td>May</td>\n",
       "      <td>5478</td>\n",
       "    </tr>\n",
       "    <tr>\n",
       "      <th>12</th>\n",
       "      <td>2016</td>\n",
       "      <td>June</td>\n",
       "      <td>5292</td>\n",
       "    </tr>\n",
       "    <tr>\n",
       "      <th>11</th>\n",
       "      <td>2016</td>\n",
       "      <td>July</td>\n",
       "      <td>4572</td>\n",
       "    </tr>\n",
       "    <tr>\n",
       "      <th>7</th>\n",
       "      <td>2016</td>\n",
       "      <td>August</td>\n",
       "      <td>5063</td>\n",
       "    </tr>\n",
       "    <tr>\n",
       "      <th>17</th>\n",
       "      <td>2016</td>\n",
       "      <td>September</td>\n",
       "      <td>5394</td>\n",
       "    </tr>\n",
       "    <tr>\n",
       "      <th>16</th>\n",
       "      <td>2016</td>\n",
       "      <td>October</td>\n",
       "      <td>6203</td>\n",
       "    </tr>\n",
       "    <tr>\n",
       "      <th>15</th>\n",
       "      <td>2016</td>\n",
       "      <td>November</td>\n",
       "      <td>4454</td>\n",
       "    </tr>\n",
       "    <tr>\n",
       "      <th>8</th>\n",
       "      <td>2016</td>\n",
       "      <td>December</td>\n",
       "      <td>3860</td>\n",
       "    </tr>\n",
       "    <tr>\n",
       "      <th>21</th>\n",
       "      <td>2017</td>\n",
       "      <td>January</td>\n",
       "      <td>3681</td>\n",
       "    </tr>\n",
       "    <tr>\n",
       "      <th>20</th>\n",
       "      <td>2017</td>\n",
       "      <td>February</td>\n",
       "      <td>4177</td>\n",
       "    </tr>\n",
       "    <tr>\n",
       "      <th>24</th>\n",
       "      <td>2017</td>\n",
       "      <td>March</td>\n",
       "      <td>4970</td>\n",
       "    </tr>\n",
       "    <tr>\n",
       "      <th>18</th>\n",
       "      <td>2017</td>\n",
       "      <td>April</td>\n",
       "      <td>5661</td>\n",
       "    </tr>\n",
       "    <tr>\n",
       "      <th>25</th>\n",
       "      <td>2017</td>\n",
       "      <td>May</td>\n",
       "      <td>6313</td>\n",
       "    </tr>\n",
       "    <tr>\n",
       "      <th>23</th>\n",
       "      <td>2017</td>\n",
       "      <td>June</td>\n",
       "      <td>5647</td>\n",
       "    </tr>\n",
       "    <tr>\n",
       "      <th>22</th>\n",
       "      <td>2017</td>\n",
       "      <td>July</td>\n",
       "      <td>5313</td>\n",
       "    </tr>\n",
       "    <tr>\n",
       "      <th>19</th>\n",
       "      <td>2017</td>\n",
       "      <td>August</td>\n",
       "      <td>4925</td>\n",
       "    </tr>\n",
       "  </tbody>\n",
       "</table>\n",
       "</div>"
      ],
      "text/plain": [
       "    arrival_date_year arrival_date_month  Bookings\n",
       "2                2015               July      2776\n",
       "0                2015             August      3889\n",
       "5                2015          September      5114\n",
       "4                2015            October      4957\n",
       "3                2015           November      2340\n",
       "1                2015           December      2920\n",
       "10               2016            January      2248\n",
       "9                2016           February      3891\n",
       "13               2016              March      4824\n",
       "6                2016              April      5428\n",
       "14               2016                May      5478\n",
       "12               2016               June      5292\n",
       "11               2016               July      4572\n",
       "7                2016             August      5063\n",
       "17               2016          September      5394\n",
       "16               2016            October      6203\n",
       "15               2016           November      4454\n",
       "8                2016           December      3860\n",
       "21               2017            January      3681\n",
       "20               2017           February      4177\n",
       "24               2017              March      4970\n",
       "18               2017              April      5661\n",
       "25               2017                May      6313\n",
       "23               2017               June      5647\n",
       "22               2017               July      5313\n",
       "19               2017             August      4925"
      ]
     },
     "execution_count": 146,
     "metadata": {},
     "output_type": "execute_result"
    }
   ],
   "source": [
    "monthly_yearly"
   ]
  },
  {
   "cell_type": "code",
   "execution_count": 147,
   "id": "4830e68c",
   "metadata": {},
   "outputs": [
    {
     "data": {
      "image/png": "[encoded data removed]",
      "text/plain": [
       "<Figure size 1200x600 with 1 Axes>"
      ]
     },
     "metadata": {},
     "output_type": "display_data"
    }
   ],
   "source": [
    "plt.figure(figsize=(12,6))\n",
    "sns.lineplot(data= monthly_yearly, x='arrival_date_month', y= \"Bookings\", hue= 'arrival_date_year' )\n",
    "plt.grid(axis='y')"
   ]
  },
  {
   "cell_type": "code",
   "execution_count": 148,
   "id": "64c3040d",
   "metadata": {},
   "outputs": [
    {
     "data": {
      "text/plain": [
       "arrival_date_year     2017\n",
       "arrival_date_month     May\n",
       "Bookings              6313\n",
       "Name: 25, dtype: object"
      ]
     },
     "execution_count": 148,
     "metadata": {},
     "output_type": "execute_result"
    }
   ],
   "source": [
    "monthly_yearly.loc[monthly_yearly['Bookings'].idxmax()]"
   ]
  },
  {
   "cell_type": "markdown",
   "id": "a5817dbd",
   "metadata": {},
   "source": [
    "### Ans: so the month **MAY** had the highest Sale of year 2017.\n",
    "\n",
    "May 2017 had the highest number of hotel bookings out of any month in any year in the entire dataset."
   ]
  },
  {
   "cell_type": "code",
   "execution_count": null,
   "id": "4904ec14",
   "metadata": {},
   "outputs": [],
   "source": []
  },
  {
   "cell_type": "markdown",
   "id": "9686e3bb",
   "metadata": {},
   "source": [
    "# Q3. What are the most common customer countries?"
   ]
  },
  {
   "cell_type": "code",
   "execution_count": 149,
   "id": "ccf783fd",
   "metadata": {},
   "outputs": [
    {
     "name": "stdout",
     "output_type": "stream",
     "text": [
      "unique: ['PRT' 'GBR' 'USA' 'ESP' 'IRL' 'FRA' nan 'ROU' 'NOR' 'OMN' 'ARG' 'POL'\n",
      " 'DEU' 'BEL' 'CHE' 'CN' 'GRC' 'ITA' 'NLD' 'DNK' 'RUS' 'SWE' 'AUS' 'EST'\n",
      " 'CZE' 'BRA' 'FIN' 'MOZ' 'BWA' 'LUX' 'SVN' 'ALB' 'IND' 'CHN' 'MEX' 'MAR'\n",
      " 'UKR' 'SMR' 'LVA' 'PRI' 'SRB' 'CHL' 'AUT' 'BLR' 'LTU' 'TUR' 'ZAF' 'AGO'\n",
      " 'ISR' 'CYM' 'ZMB' 'CPV' 'ZWE' 'DZA' 'KOR' 'CRI' 'HUN' 'ARE' 'TUN' 'JAM'\n",
      " 'HRV' 'HKG' 'IRN' 'GEO' 'AND' 'GIB' 'URY' 'JEY' 'CAF' 'CYP' 'COL' 'GGY'\n",
      " 'KWT' 'NGA' 'MDV' 'VEN' 'SVK' 'FJI' 'KAZ' 'PAK' 'IDN' 'LBN' 'PHL' 'SEN'\n",
      " 'SYC' 'AZE' 'BHR' 'NZL' 'THA' 'DOM' 'MKD' 'MYS' 'ARM' 'JPN' 'LKA' 'CUB'\n",
      " 'CMR' 'BIH' 'MUS' 'COM' 'SUR' 'UGA' 'BGR' 'CIV' 'JOR' 'SYR' 'SGP' 'BDI'\n",
      " 'SAU' 'VNM' 'PLW' 'QAT' 'EGY' 'PER' 'MLT' 'MWI' 'ECU' 'MDG' 'ISL' 'UZB'\n",
      " 'NPL' 'BHS' 'MAC' 'TGO' 'TWN' 'DJI' 'STP' 'KNA' 'ETH' 'IRQ' 'HND' 'RWA'\n",
      " 'KHM' 'MCO' 'BGD' 'IMN' 'TJK' 'NIC' 'BEN' 'VGB' 'TZA' 'GAB' 'GHA' 'TMP'\n",
      " 'GLP' 'KEN' 'LIE' 'GNB' 'MNE' 'UMI' 'MYT' 'FRO' 'MMR' 'PAN' 'BFA' 'LBY'\n",
      " 'MLI' 'NAM' 'BOL' 'PRY' 'BRB' 'ABW' 'AIA' 'SLV' 'DMA' 'PYF' 'GUY' 'LCA'\n",
      " 'ATA' 'GTM' 'ASM' 'MRT' 'NCL' 'KIR' 'SDN' 'ATF' 'SLE' 'LAO'] \n",
      "\n",
      "counts: country\n",
      "PRT    48590\n",
      "GBR    12129\n",
      "FRA    10415\n",
      "ESP     8568\n",
      "DEU     7287\n",
      "       ...  \n",
      "DJI        1\n",
      "BWA        1\n",
      "HND        1\n",
      "VGB        1\n",
      "NAM        1\n",
      "Name: count, Length: 177, dtype: int64 \n",
      "\n",
      "duplicates: 119212 \n",
      "\n",
      "nulls: 488 \n",
      "\n",
      "count     118902\n",
      "unique       177\n",
      "top          PRT\n",
      "freq       48590\n",
      "Name: country, dtype: object\n"
     ]
    }
   ],
   "source": [
    "print('unique:', hotel['country'].unique(),'\\n')\n",
    "print(\"counts:\",hotel['country'].value_counts(),'\\n')\n",
    "print('duplicates:',hotel['country'].duplicated().sum(), '\\n')\n",
    "print('nulls:',hotel['country'].isna().sum(), '\\n')\n",
    "print(hotel['country'].describe())"
   ]
  },
  {
   "cell_type": "code",
   "execution_count": 150,
   "id": "3a96f0f0",
   "metadata": {},
   "outputs": [
    {
     "data": {
      "text/plain": [
       "0.40874445095904177"
      ]
     },
     "execution_count": 150,
     "metadata": {},
     "output_type": "execute_result"
    }
   ],
   "source": [
    "(hotel['country'].isna().sum()/hotel['country'].shape[0])*100"
   ]
  },
  {
   "cell_type": "code",
   "execution_count": 151,
   "id": "61e06960",
   "metadata": {},
   "outputs": [
    {
     "data": {
      "text/plain": [
       "488"
      ]
     },
     "execution_count": 151,
     "metadata": {},
     "output_type": "execute_result"
    }
   ],
   "source": [
    "hotel['country'].isna().sum()"
   ]
  },
  {
   "cell_type": "markdown",
   "id": "c297f449",
   "metadata": {},
   "source": [
    "dropping the null values"
   ]
  },
  {
   "cell_type": "code",
   "execution_count": 152,
   "id": "53d4868e",
   "metadata": {},
   "outputs": [],
   "source": [
    "hotel.dropna(subset=['country'], inplace=True)"
   ]
  },
  {
   "cell_type": "code",
   "execution_count": 153,
   "id": "94e7abd4",
   "metadata": {},
   "outputs": [
    {
     "data": {
      "text/plain": [
       "0"
      ]
     },
     "execution_count": 153,
     "metadata": {},
     "output_type": "execute_result"
    }
   ],
   "source": [
    "hotel['country'].isna().sum()"
   ]
  },
  {
   "cell_type": "code",
   "execution_count": 156,
   "id": "192c9743",
   "metadata": {},
   "outputs": [],
   "source": [
    "\n",
    "regular_customers =hotel['country'].value_counts().head()"
   ]
  },
  {
   "cell_type": "code",
   "execution_count": 157,
   "id": "c13e3a8e",
   "metadata": {},
   "outputs": [
    {
     "data": {
      "text/plain": [
       "country\n",
       "PRT    48590\n",
       "GBR    12129\n",
       "FRA    10415\n",
       "ESP     8568\n",
       "DEU     7287\n",
       "Name: count, dtype: int64"
      ]
     },
     "execution_count": 157,
     "metadata": {},
     "output_type": "execute_result"
    }
   ],
   "source": [
    "regular_customers"
   ]
  },
  {
   "cell_type": "code",
   "execution_count": null,
   "id": "03c9cd7a",
   "metadata": {},
   "outputs": [
    {
     "data": {
      "text/plain": [
       "<Axes: xlabel='country'>"
      ]
     },
     "execution_count": 158,
     "metadata": {},
     "output_type": "execute_result"
    },
    {
     "data": {
      "image/png": "[encoded data removed]",
      "text/plain": [
       "<Figure size 1100x500 with 1 Axes>"
      ]
     },
     "metadata": {},
     "output_type": "display_data"
    }
   ],
   "source": [
    "regular_customers.plot(kind='bar', figsize=(11,5))\n",
    "\n"
   ]
  },
  {
   "cell_type": "markdown",
   "id": "5434959a",
   "metadata": {},
   "source": [
    "### Ans: So these are top customer countries."
   ]
  },
  {
   "cell_type": "markdown",
   "id": "0b1f7885",
   "metadata": {},
   "source": [
    "# Q4. Are there any extreme or unrealistic values in the adr column?"
   ]
  },
  {
   "cell_type": "code",
   "execution_count": 160,
   "id": "6afe02f3",
   "metadata": {},
   "outputs": [
    {
     "name": "stdout",
     "output_type": "stream",
     "text": [
      "unique: [  0.    75.    98.   ... 266.75 209.25 157.71] \n",
      "\n",
      "counts: adr\n",
      "62.00     3753\n",
      "75.00     2710\n",
      "90.00     2471\n",
      "65.00     2397\n",
      "0.00      1938\n",
      "          ... \n",
      "96.09        1\n",
      "48.03        1\n",
      "89.43        1\n",
      "63.07        1\n",
      "157.71       1\n",
      "Name: count, Length: 8870, dtype: int64 \n",
      "\n",
      "duplicates: 110032 \n",
      "\n",
      "nulls: 0 \n",
      "\n",
      "count    118902.000000\n",
      "mean        102.000808\n",
      "std          50.487004\n",
      "min          -6.380000\n",
      "25%          70.000000\n",
      "50%          95.000000\n",
      "75%         126.000000\n",
      "max        5400.000000\n",
      "Name: adr, dtype: float64\n"
     ]
    }
   ],
   "source": [
    "print('unique:', hotel['adr'].unique(),'\\n')\n",
    "print(\"counts:\",hotel['adr'].value_counts(),'\\n')\n",
    "print('duplicates:',hotel['adr'].duplicated().sum(), '\\n')\n",
    "print('nulls:',hotel['adr'].isna().sum(), '\\n')\n",
    "print(hotel['adr'].describe())"
   ]
  },
  {
   "cell_type": "code",
   "execution_count": 167,
   "id": "d16bf411",
   "metadata": {},
   "outputs": [
    {
     "data": {
      "image/png": "[encoded data removed]",
      "text/plain": [
       "<Figure size 1000x500 with 1 Axes>"
      ]
     },
     "metadata": {},
     "output_type": "display_data"
    }
   ],
   "source": [
    "plt.figure(figsize=(10,5))\n",
    "hotel['adr'].plot(kind='hist', bins=200, color='skyblue', edgecolor='black')\n",
    "plt.title('Distribution of ADR (Average Daily Rate)')\n",
    "plt.xlabel('ADR (€)')\n",
    "plt.ylabel('Frequency')\n",
    "plt.grid(axis='y', linestyle='--', alpha=0.5)\n",
    "plt.tight_layout()\n",
    "plt.show()\n"
   ]
  },
  {
   "cell_type": "code",
   "execution_count": 169,
   "id": "fdec9c6c",
   "metadata": {},
   "outputs": [
    {
     "data": {
      "image/png": "[encoded data removed]",
      "text/plain": [
       "<Figure size 800x500 with 1 Axes>"
      ]
     },
     "metadata": {},
     "output_type": "display_data"
    }
   ],
   "source": [
    "plt.figure(figsize=(8, 5))\n",
    "sns.boxplot(data=hotel, x='adr', color='orange')\n",
    "plt.title('Boxplot of ADR')\n",
    "plt.tight_layout()\n",
    "plt.show()\n"
   ]
  },
  {
   "cell_type": "markdown",
   "id": "3b3f72cc",
   "metadata": {},
   "source": [
    "### Yes the adr column is having outliers.....with max value of 5400 and min of -6.38 which is unrealistic as well."
   ]
  },
  {
   "cell_type": "code",
   "execution_count": 178,
   "id": "fd89e5c9",
   "metadata": {},
   "outputs": [],
   "source": [
    "\n",
    "hotel_clean = hotel[(hotel['adr'] >= 0) & (hotel['adr'] <= 500)]\n"
   ]
  },
  {
   "cell_type": "code",
   "execution_count": 179,
   "id": "0af5c829",
   "metadata": {},
   "outputs": [
    {
     "data": {
      "text/plain": [
       "<Axes: xlabel='adr'>"
      ]
     },
     "execution_count": 179,
     "metadata": {},
     "output_type": "execute_result"
    },
    {
     "data": {
      "image/png": "[encoded data removed]",
      "text/plain": [
       "<Figure size 640x480 with 1 Axes>"
      ]
     },
     "metadata": {},
     "output_type": "display_data"
    }
   ],
   "source": [
    "sns.boxplot(data=hotel_clean, x = 'adr')"
   ]
  },
  {
   "cell_type": "markdown",
   "id": "2aab2d71",
   "metadata": {},
   "source": [
    "# Q5. Which meal type are most booked and are there any unusual or missing values?"
   ]
  },
  {
   "cell_type": "code",
   "execution_count": 180,
   "id": "0942592f",
   "metadata": {},
   "outputs": [
    {
     "data": {
      "text/plain": [
       "Index(['hotel', 'is_canceled', 'lead_time', 'arrival_date_year',\n",
       "       'arrival_date_month', 'arrival_date_week_number',\n",
       "       'arrival_date_day_of_month', 'stays_in_weekend_nights',\n",
       "       'stays_in_week_nights', 'adults', 'children', 'babies', 'meal',\n",
       "       'country', 'market_segment', 'distribution_channel',\n",
       "       'is_repeated_guest', 'previous_cancellations',\n",
       "       'previous_bookings_not_canceled', 'reserved_room_type',\n",
       "       'assigned_room_type', 'booking_changes', 'deposit_type', 'agent',\n",
       "       'company', 'days_in_waiting_list', 'customer_type', 'adr',\n",
       "       'required_car_parking_spaces', 'total_of_special_requests',\n",
       "       'reservation_status', 'reservation_status_date'],\n",
       "      dtype='object')"
      ]
     },
     "execution_count": 180,
     "metadata": {},
     "output_type": "execute_result"
    }
   ],
   "source": [
    "hotel.columns"
   ]
  },
  {
   "cell_type": "code",
   "execution_count": 181,
   "id": "bae98e86",
   "metadata": {},
   "outputs": [
    {
     "name": "stdout",
     "output_type": "stream",
     "text": [
      "unique: ['BB' 'FB' 'HB' 'SC' 'Undefined'] \n",
      "\n",
      "counts: meal\n",
      "BB           91867\n",
      "HB           14434\n",
      "SC           10638\n",
      "Undefined     1165\n",
      "FB             798\n",
      "Name: count, dtype: int64 \n",
      "\n",
      "duplicates: 118897 \n",
      "\n",
      "nulls: 0 \n",
      "\n",
      "count     118902\n",
      "unique         5\n",
      "top           BB\n",
      "freq       91867\n",
      "Name: meal, dtype: object\n"
     ]
    }
   ],
   "source": [
    "print('unique:', hotel['meal'].unique(),'\\n')\n",
    "print(\"counts:\",hotel['meal'].value_counts(),'\\n')\n",
    "print('duplicates:',hotel['meal'].duplicated().sum(), '\\n')\n",
    "print('nulls:',hotel['meal'].isna().sum(), '\\n')\n",
    "print(hotel['meal'].describe())"
   ]
  },
  {
   "cell_type": "markdown",
   "id": "6ecd1781",
   "metadata": {},
   "source": [
    "The value **Undefined** has occured 1165 times which is leading to uncertainity, it can be due to data entry issue or mistake...or, some other hidden potential reason!"
   ]
  },
  {
   "cell_type": "code",
   "execution_count": 186,
   "id": "9fbeb8c1",
   "metadata": {},
   "outputs": [
    {
     "data": {
      "text/plain": [
       "meal\n",
       "False    99.020202\n",
       "True      0.979798\n",
       "Name: count, dtype: float64"
      ]
     },
     "execution_count": 186,
     "metadata": {},
     "output_type": "execute_result"
    }
   ],
   "source": [
    "(hotel['meal']=='Undefined').value_counts()/len(hotel)*100"
   ]
  },
  {
   "cell_type": "code",
   "execution_count": 187,
   "id": "2fac4ac9",
   "metadata": {},
   "outputs": [],
   "source": [
    "undefined = hotel[hotel['meal']=='Undefined']"
   ]
  },
  {
   "cell_type": "code",
   "execution_count": 190,
   "id": "7c8896a4",
   "metadata": {},
   "outputs": [
    {
     "data": {
      "text/html": [
       "<div>\n",
       "<style scoped>\n",
       "    .dataframe tbody tr th:only-of-type {\n",
       "        vertical-align: middle;\n",
       "    }\n",
       "\n",
       "    .dataframe tbody tr th {\n",
       "        vertical-align: top;\n",
       "    }\n",
       "\n",
       "    .dataframe thead th {\n",
       "        text-align: right;\n",
       "    }\n",
       "</style>\n",
       "<table border=\"1\" class=\"dataframe\">\n",
       "  <thead>\n",
       "    <tr style=\"text-align: right;\">\n",
       "      <th></th>\n",
       "      <th>hotel</th>\n",
       "      <th>is_canceled</th>\n",
       "      <th>lead_time</th>\n",
       "      <th>arrival_date_year</th>\n",
       "      <th>arrival_date_month</th>\n",
       "      <th>arrival_date_week_number</th>\n",
       "      <th>arrival_date_day_of_month</th>\n",
       "      <th>stays_in_weekend_nights</th>\n",
       "      <th>stays_in_week_nights</th>\n",
       "      <th>adults</th>\n",
       "      <th>...</th>\n",
       "      <th>deposit_type</th>\n",
       "      <th>agent</th>\n",
       "      <th>company</th>\n",
       "      <th>days_in_waiting_list</th>\n",
       "      <th>customer_type</th>\n",
       "      <th>adr</th>\n",
       "      <th>required_car_parking_spaces</th>\n",
       "      <th>total_of_special_requests</th>\n",
       "      <th>reservation_status</th>\n",
       "      <th>reservation_status_date</th>\n",
       "    </tr>\n",
       "  </thead>\n",
       "  <tbody>\n",
       "    <tr>\n",
       "      <th>3106</th>\n",
       "      <td>Resort Hotel</td>\n",
       "      <td>0</td>\n",
       "      <td>105</td>\n",
       "      <td>2015</td>\n",
       "      <td>November</td>\n",
       "      <td>47</td>\n",
       "      <td>18</td>\n",
       "      <td>2</td>\n",
       "      <td>4</td>\n",
       "      <td>2</td>\n",
       "      <td>...</td>\n",
       "      <td>No Deposit</td>\n",
       "      <td>313.0</td>\n",
       "      <td>NaN</td>\n",
       "      <td>65</td>\n",
       "      <td>Transient-Party</td>\n",
       "      <td>69.0</td>\n",
       "      <td>0</td>\n",
       "      <td>0</td>\n",
       "      <td>Check-Out</td>\n",
       "      <td>11/24/2015</td>\n",
       "    </tr>\n",
       "    <tr>\n",
       "      <th>3107</th>\n",
       "      <td>Resort Hotel</td>\n",
       "      <td>0</td>\n",
       "      <td>105</td>\n",
       "      <td>2015</td>\n",
       "      <td>November</td>\n",
       "      <td>47</td>\n",
       "      <td>18</td>\n",
       "      <td>2</td>\n",
       "      <td>4</td>\n",
       "      <td>2</td>\n",
       "      <td>...</td>\n",
       "      <td>No Deposit</td>\n",
       "      <td>313.0</td>\n",
       "      <td>NaN</td>\n",
       "      <td>65</td>\n",
       "      <td>Transient-Party</td>\n",
       "      <td>69.0</td>\n",
       "      <td>0</td>\n",
       "      <td>0</td>\n",
       "      <td>Check-Out</td>\n",
       "      <td>11/24/2015</td>\n",
       "    </tr>\n",
       "    <tr>\n",
       "      <th>3108</th>\n",
       "      <td>Resort Hotel</td>\n",
       "      <td>0</td>\n",
       "      <td>105</td>\n",
       "      <td>2015</td>\n",
       "      <td>November</td>\n",
       "      <td>47</td>\n",
       "      <td>18</td>\n",
       "      <td>2</td>\n",
       "      <td>4</td>\n",
       "      <td>2</td>\n",
       "      <td>...</td>\n",
       "      <td>No Deposit</td>\n",
       "      <td>313.0</td>\n",
       "      <td>NaN</td>\n",
       "      <td>65</td>\n",
       "      <td>Transient-Party</td>\n",
       "      <td>69.0</td>\n",
       "      <td>0</td>\n",
       "      <td>0</td>\n",
       "      <td>Check-Out</td>\n",
       "      <td>11/24/2015</td>\n",
       "    </tr>\n",
       "    <tr>\n",
       "      <th>3110</th>\n",
       "      <td>Resort Hotel</td>\n",
       "      <td>0</td>\n",
       "      <td>62</td>\n",
       "      <td>2015</td>\n",
       "      <td>November</td>\n",
       "      <td>47</td>\n",
       "      <td>18</td>\n",
       "      <td>2</td>\n",
       "      <td>4</td>\n",
       "      <td>2</td>\n",
       "      <td>...</td>\n",
       "      <td>No Deposit</td>\n",
       "      <td>313.0</td>\n",
       "      <td>NaN</td>\n",
       "      <td>0</td>\n",
       "      <td>Transient-Party</td>\n",
       "      <td>69.0</td>\n",
       "      <td>0</td>\n",
       "      <td>0</td>\n",
       "      <td>Check-Out</td>\n",
       "      <td>11/24/2015</td>\n",
       "    </tr>\n",
       "    <tr>\n",
       "      <th>3111</th>\n",
       "      <td>Resort Hotel</td>\n",
       "      <td>0</td>\n",
       "      <td>105</td>\n",
       "      <td>2015</td>\n",
       "      <td>November</td>\n",
       "      <td>47</td>\n",
       "      <td>18</td>\n",
       "      <td>2</td>\n",
       "      <td>4</td>\n",
       "      <td>2</td>\n",
       "      <td>...</td>\n",
       "      <td>No Deposit</td>\n",
       "      <td>313.0</td>\n",
       "      <td>NaN</td>\n",
       "      <td>65</td>\n",
       "      <td>Transient-Party</td>\n",
       "      <td>69.0</td>\n",
       "      <td>0</td>\n",
       "      <td>0</td>\n",
       "      <td>Check-Out</td>\n",
       "      <td>11/24/2015</td>\n",
       "    </tr>\n",
       "  </tbody>\n",
       "</table>\n",
       "<p>5 rows × 32 columns</p>\n",
       "</div>"
      ],
      "text/plain": [
       "             hotel  is_canceled  lead_time  arrival_date_year  \\\n",
       "3106  Resort Hotel            0        105               2015   \n",
       "3107  Resort Hotel            0        105               2015   \n",
       "3108  Resort Hotel            0        105               2015   \n",
       "3110  Resort Hotel            0         62               2015   \n",
       "3111  Resort Hotel            0        105               2015   \n",
       "\n",
       "     arrival_date_month  arrival_date_week_number  arrival_date_day_of_month  \\\n",
       "3106           November                        47                         18   \n",
       "3107           November                        47                         18   \n",
       "3108           November                        47                         18   \n",
       "3110           November                        47                         18   \n",
       "3111           November                        47                         18   \n",
       "\n",
       "      stays_in_weekend_nights  stays_in_week_nights  adults  ...  \\\n",
       "3106                        2                     4       2  ...   \n",
       "3107                        2                     4       2  ...   \n",
       "3108                        2                     4       2  ...   \n",
       "3110                        2                     4       2  ...   \n",
       "3111                        2                     4       2  ...   \n",
       "\n",
       "      deposit_type  agent company days_in_waiting_list    customer_type   adr  \\\n",
       "3106    No Deposit  313.0     NaN                   65  Transient-Party  69.0   \n",
       "3107    No Deposit  313.0     NaN                   65  Transient-Party  69.0   \n",
       "3108    No Deposit  313.0     NaN                   65  Transient-Party  69.0   \n",
       "3110    No Deposit  313.0     NaN                    0  Transient-Party  69.0   \n",
       "3111    No Deposit  313.0     NaN                   65  Transient-Party  69.0   \n",
       "\n",
       "      required_car_parking_spaces  total_of_special_requests  \\\n",
       "3106                            0                          0   \n",
       "3107                            0                          0   \n",
       "3108                            0                          0   \n",
       "3110                            0                          0   \n",
       "3111                            0                          0   \n",
       "\n",
       "      reservation_status reservation_status_date  \n",
       "3106           Check-Out              11/24/2015  \n",
       "3107           Check-Out              11/24/2015  \n",
       "3108           Check-Out              11/24/2015  \n",
       "3110           Check-Out              11/24/2015  \n",
       "3111           Check-Out              11/24/2015  \n",
       "\n",
       "[5 rows x 32 columns]"
      ]
     },
     "execution_count": 190,
     "metadata": {},
     "output_type": "execute_result"
    }
   ],
   "source": [
    "undefined.head()"
   ]
  },
  {
   "cell_type": "code",
   "execution_count": 189,
   "id": "99aa1a5f",
   "metadata": {},
   "outputs": [
    {
     "data": {
      "text/html": [
       "<div>\n",
       "<style scoped>\n",
       "    .dataframe tbody tr th:only-of-type {\n",
       "        vertical-align: middle;\n",
       "    }\n",
       "\n",
       "    .dataframe tbody tr th {\n",
       "        vertical-align: top;\n",
       "    }\n",
       "\n",
       "    .dataframe thead th {\n",
       "        text-align: right;\n",
       "    }\n",
       "</style>\n",
       "<table border=\"1\" class=\"dataframe\">\n",
       "  <thead>\n",
       "    <tr style=\"text-align: right;\">\n",
       "      <th></th>\n",
       "      <th>is_canceled</th>\n",
       "      <th>hotel</th>\n",
       "      <th>adr</th>\n",
       "      <th>country</th>\n",
       "      <th>reservation_status</th>\n",
       "    </tr>\n",
       "  </thead>\n",
       "  <tbody>\n",
       "    <tr>\n",
       "      <th>3106</th>\n",
       "      <td>0</td>\n",
       "      <td>Resort Hotel</td>\n",
       "      <td>69.0</td>\n",
       "      <td>ESP</td>\n",
       "      <td>Check-Out</td>\n",
       "    </tr>\n",
       "    <tr>\n",
       "      <th>3107</th>\n",
       "      <td>0</td>\n",
       "      <td>Resort Hotel</td>\n",
       "      <td>69.0</td>\n",
       "      <td>ESP</td>\n",
       "      <td>Check-Out</td>\n",
       "    </tr>\n",
       "    <tr>\n",
       "      <th>3108</th>\n",
       "      <td>0</td>\n",
       "      <td>Resort Hotel</td>\n",
       "      <td>69.0</td>\n",
       "      <td>ESP</td>\n",
       "      <td>Check-Out</td>\n",
       "    </tr>\n",
       "    <tr>\n",
       "      <th>3110</th>\n",
       "      <td>0</td>\n",
       "      <td>Resort Hotel</td>\n",
       "      <td>69.0</td>\n",
       "      <td>ESP</td>\n",
       "      <td>Check-Out</td>\n",
       "    </tr>\n",
       "    <tr>\n",
       "      <th>3111</th>\n",
       "      <td>0</td>\n",
       "      <td>Resort Hotel</td>\n",
       "      <td>69.0</td>\n",
       "      <td>ESP</td>\n",
       "      <td>Check-Out</td>\n",
       "    </tr>\n",
       "  </tbody>\n",
       "</table>\n",
       "</div>"
      ],
      "text/plain": [
       "      is_canceled         hotel   adr country reservation_status\n",
       "3106            0  Resort Hotel  69.0     ESP          Check-Out\n",
       "3107            0  Resort Hotel  69.0     ESP          Check-Out\n",
       "3108            0  Resort Hotel  69.0     ESP          Check-Out\n",
       "3110            0  Resort Hotel  69.0     ESP          Check-Out\n",
       "3111            0  Resort Hotel  69.0     ESP          Check-Out"
      ]
     },
     "execution_count": 189,
     "metadata": {},
     "output_type": "execute_result"
    }
   ],
   "source": [
    "undefined[['is_canceled', 'hotel', 'adr', 'country', 'reservation_status']].head()\n"
   ]
  },
  {
   "cell_type": "markdown",
   "id": "e6bd3629",
   "metadata": {},
   "source": [
    "#### This clearly tells that these are  the valid bookings so we are not going to remove them, because the guest actually stayed just that his/her meal information is not given may be due to technical glitch. OR we can replace undefined with **no meal info** as well for more clarity."
   ]
  },
  {
   "cell_type": "code",
   "execution_count": 191,
   "metadata": {},
   "outputs": [],
   "source": [
    "hotel['meal'].replace('Undefined', 'No meal Info', inplace=True)"
   ]
  },
  {
   "cell_type": "markdown",
   "id": "fa313bae",
   "metadata": {},
   "source": [
    "# Q6. Which market segments cancels the most ?"
   ]
  },
  {
   "cell_type": "code",
   "execution_count": 192,
   "id": "f8bbe5a7",
   "metadata": {},
   "outputs": [
    {
     "data": {
      "text/plain": [
       "Index(['hotel', 'is_canceled', 'lead_time', 'arrival_date_year',\n",
       "       'arrival_date_month', 'arrival_date_week_number',\n",
       "       'arrival_date_day_of_month', 'stays_in_weekend_nights',\n",
       "       'stays_in_week_nights', 'adults', 'children', 'babies', 'meal',\n",
       "       'country', 'market_segment', 'distribution_channel',\n",
       "       'is_repeated_guest', 'previous_cancellations',\n",
       "       'previous_bookings_not_canceled', 'reserved_room_type',\n",
       "       'assigned_room_type', 'booking_changes', 'deposit_type', 'agent',\n",
       "       'company', 'days_in_waiting_list', 'customer_type', 'adr',\n",
       "       'required_car_parking_spaces', 'total_of_special_requests',\n",
       "       'reservation_status', 'reservation_status_date'],\n",
       "      dtype='object')"
      ]
     },
     "execution_count": 192,
     "metadata": {},
     "output_type": "execute_result"
    }
   ],
   "source": [
    "hotel.columns"
   ]
  },
  {
   "cell_type": "code",
   "execution_count": null,
   "id": "bb16a713",
   "metadata": {},
   "outputs": [
    {
     "data": {
      "text/plain": [
       "0                Direct\n",
       "1                Direct\n",
       "2                Direct\n",
       "3             Corporate\n",
       "4             Online TA\n",
       "              ...      \n",
       "119385    Offline TA/TO\n",
       "119386        Online TA\n",
       "119387        Online TA\n",
       "119388        Online TA\n",
       "119389        Online TA\n",
       "Name: market_segment, Length: 118902, dtype: object"
      ]
     },
     "execution_count": 193,
     "metadata": {},
     "output_type": "execute_result"
    }
   ],
   "source": []
  },
  {
   "cell_type": "code",
   "execution_count": 194,
   "id": "b2579a42",
   "metadata": {},
   "outputs": [
    {
     "name": "stdout",
     "output_type": "stream",
     "text": [
      "unique: ['Direct' 'Corporate' 'Online TA' 'Offline TA/TO' 'Complementary' 'Groups'\n",
      " 'Undefined' 'Aviation'] \n",
      "\n",
      "counts: market_segment\n",
      "Online TA        56403\n",
      "Offline TA/TO    24160\n",
      "Groups           19806\n",
      "Direct           12449\n",
      "Corporate         5111\n",
      "Complementary      734\n",
      "Aviation           237\n",
      "Undefined            2\n",
      "Name: count, dtype: int64 \n",
      "\n",
      "duplicates: 118894 \n",
      "\n",
      "nulls: 0 \n",
      "\n",
      "count        118902\n",
      "unique            8\n",
      "top       Online TA\n",
      "freq          56403\n",
      "Name: market_segment, dtype: object\n"
     ]
    }
   ],
   "source": [
    "print('unique:', hotel['market_segment'].unique(),'\\n')\n",
    "print(\"counts:\",hotel['market_segment'].value_counts(),'\\n')\n",
    "print('duplicates:',hotel['market_segment'].duplicated().sum(), '\\n')\n",
    "print('nulls:',hotel['market_segment'].isna().sum(), '\\n')\n",
    "print(hotel['market_segment'].describe())"
   ]
  },
  {
   "cell_type": "code",
   "execution_count": 195,
   "id": "3e511840",
   "metadata": {},
   "outputs": [
    {
     "name": "stdout",
     "output_type": "stream",
     "text": [
      "unique: [0 1] \n",
      "\n",
      "counts: is_canceled\n",
      "0    74745\n",
      "1    44157\n",
      "Name: count, dtype: int64 \n",
      "\n",
      "duplicates: 118900 \n",
      "\n",
      "nulls: 0 \n",
      "\n",
      "count    118902.000000\n",
      "mean          0.371373\n",
      "std           0.483174\n",
      "min           0.000000\n",
      "25%           0.000000\n",
      "50%           0.000000\n",
      "75%           1.000000\n",
      "max           1.000000\n",
      "Name: is_canceled, dtype: float64\n"
     ]
    }
   ],
   "source": [
    "print('unique:', hotel['is_canceled'].unique(),'\\n')\n",
    "print(\"counts:\",hotel['is_canceled'].value_counts(),'\\n')\n",
    "print('duplicates:',hotel['is_canceled'].duplicated().sum(), '\\n')\n",
    "print('nulls:',hotel['is_canceled'].isna().sum(), '\\n')\n",
    "print(hotel['is_canceled'].describe())"
   ]
  },
  {
   "cell_type": "code",
   "execution_count": 214,
   "id": "9d4e1a2e",
   "metadata": {},
   "outputs": [],
   "source": [
    "segment_cancelling =hotel.groupby('market_segment')['is_canceled'].value_counts().reset_index()"
   ]
  },
  {
   "cell_type": "code",
   "execution_count": 215,
   "id": "f64c81ee",
   "metadata": {},
   "outputs": [
    {
     "data": {
      "text/html": [
       "<div>\n",
       "<style scoped>\n",
       "    .dataframe tbody tr th:only-of-type {\n",
       "        vertical-align: middle;\n",
       "    }\n",
       "\n",
       "    .dataframe tbody tr th {\n",
       "        vertical-align: top;\n",
       "    }\n",
       "\n",
       "    .dataframe thead th {\n",
       "        text-align: right;\n",
       "    }\n",
       "</style>\n",
       "<table border=\"1\" class=\"dataframe\">\n",
       "  <thead>\n",
       "    <tr style=\"text-align: right;\">\n",
       "      <th></th>\n",
       "      <th>market_segment</th>\n",
       "      <th>is_canceled</th>\n",
       "      <th>count</th>\n",
       "    </tr>\n",
       "  </thead>\n",
       "  <tbody>\n",
       "    <tr>\n",
       "      <th>0</th>\n",
       "      <td>Aviation</td>\n",
       "      <td>0</td>\n",
       "      <td>185</td>\n",
       "    </tr>\n",
       "    <tr>\n",
       "      <th>1</th>\n",
       "      <td>Aviation</td>\n",
       "      <td>1</td>\n",
       "      <td>52</td>\n",
       "    </tr>\n",
       "    <tr>\n",
       "      <th>2</th>\n",
       "      <td>Complementary</td>\n",
       "      <td>0</td>\n",
       "      <td>644</td>\n",
       "    </tr>\n",
       "    <tr>\n",
       "      <th>3</th>\n",
       "      <td>Complementary</td>\n",
       "      <td>1</td>\n",
       "      <td>90</td>\n",
       "    </tr>\n",
       "    <tr>\n",
       "      <th>4</th>\n",
       "      <td>Corporate</td>\n",
       "      <td>0</td>\n",
       "      <td>4133</td>\n",
       "    </tr>\n",
       "    <tr>\n",
       "      <th>5</th>\n",
       "      <td>Corporate</td>\n",
       "      <td>1</td>\n",
       "      <td>978</td>\n",
       "    </tr>\n",
       "    <tr>\n",
       "      <th>6</th>\n",
       "      <td>Direct</td>\n",
       "      <td>0</td>\n",
       "      <td>10528</td>\n",
       "    </tr>\n",
       "    <tr>\n",
       "      <th>7</th>\n",
       "      <td>Direct</td>\n",
       "      <td>1</td>\n",
       "      <td>1921</td>\n",
       "    </tr>\n",
       "    <tr>\n",
       "      <th>8</th>\n",
       "      <td>Groups</td>\n",
       "      <td>1</td>\n",
       "      <td>12097</td>\n",
       "    </tr>\n",
       "    <tr>\n",
       "      <th>9</th>\n",
       "      <td>Groups</td>\n",
       "      <td>0</td>\n",
       "      <td>7709</td>\n",
       "    </tr>\n",
       "    <tr>\n",
       "      <th>10</th>\n",
       "      <td>Offline TA/TO</td>\n",
       "      <td>0</td>\n",
       "      <td>15882</td>\n",
       "    </tr>\n",
       "    <tr>\n",
       "      <th>11</th>\n",
       "      <td>Offline TA/TO</td>\n",
       "      <td>1</td>\n",
       "      <td>8278</td>\n",
       "    </tr>\n",
       "    <tr>\n",
       "      <th>12</th>\n",
       "      <td>Online TA</td>\n",
       "      <td>0</td>\n",
       "      <td>35664</td>\n",
       "    </tr>\n",
       "    <tr>\n",
       "      <th>13</th>\n",
       "      <td>Online TA</td>\n",
       "      <td>1</td>\n",
       "      <td>20739</td>\n",
       "    </tr>\n",
       "    <tr>\n",
       "      <th>14</th>\n",
       "      <td>Undefined</td>\n",
       "      <td>1</td>\n",
       "      <td>2</td>\n",
       "    </tr>\n",
       "  </tbody>\n",
       "</table>\n",
       "</div>"
      ],
      "text/plain": [
       "   market_segment  is_canceled  count\n",
       "0        Aviation            0    185\n",
       "1        Aviation            1     52\n",
       "2   Complementary            0    644\n",
       "3   Complementary            1     90\n",
       "4       Corporate            0   4133\n",
       "5       Corporate            1    978\n",
       "6          Direct            0  10528\n",
       "7          Direct            1   1921\n",
       "8          Groups            1  12097\n",
       "9          Groups            0   7709\n",
       "10  Offline TA/TO            0  15882\n",
       "11  Offline TA/TO            1   8278\n",
       "12      Online TA            0  35664\n",
       "13      Online TA            1  20739\n",
       "14      Undefined            1      2"
      ]
     },
     "execution_count": 215,
     "metadata": {},
     "output_type": "execute_result"
    }
   ],
   "source": [
    "segment_cancelling\n"
   ]
  },
  {
   "cell_type": "markdown",
   "id": "2ea0d855",
   "metadata": {},
   "source": [
    "#### The highest cancellation is done by ONLINE TA segment."
   ]
  },
  {
   "cell_type": "code",
   "execution_count": null,
   "id": "f4d92f49",
   "metadata": {},
   "outputs": [],
   "source": []
  },
  {
   "cell_type": "markdown",
   "id": "f707f48c",
   "metadata": {},
   "source": [
    "# Q7. Is there a relationship between lead time and cancellations?"
   ]
  },
  {
   "cell_type": "code",
   "execution_count": 219,
   "id": "0714158e",
   "metadata": {},
   "outputs": [
    {
     "name": "stdout",
     "output_type": "stream",
     "text": [
      "counts: lead_time\n",
      "0      6223\n",
      "1      3395\n",
      "2      2034\n",
      "3      1802\n",
      "4      1696\n",
      "       ... \n",
      "400       1\n",
      "370       1\n",
      "532       1\n",
      "371       1\n",
      "463       1\n",
      "Name: count, Length: 479, dtype: int64 \n",
      "\n",
      "duplicates: 118423 \n",
      "\n",
      "nulls: 0 \n",
      "\n",
      "count    118902.000000\n",
      "mean        104.308027\n",
      "std         106.903127\n",
      "min           0.000000\n",
      "25%          18.000000\n",
      "50%          69.000000\n",
      "75%         161.000000\n",
      "max         737.000000\n",
      "Name: lead_time, dtype: float64\n"
     ]
    }
   ],
   "source": [
    "#print('unique:', hotel['lead_time'].unique(),'\\n')\n",
    "print(\"counts:\",hotel['lead_time'].value_counts(),'\\n')\n",
    "print('duplicates:',hotel['lead_time'].duplicated().sum(), '\\n')\n",
    "print('nulls:',hotel['lead_time'].isna().sum(), '\\n')\n",
    "print(hotel['lead_time'].describe())"
   ]
  },
  {
   "cell_type": "code",
   "execution_count": 223,
   "id": "1fbb6e64",
   "metadata": {},
   "outputs": [
    {
     "data": {
      "image/png": "[encoded data removed]",
      "text/plain": [
       "<Figure size 640x480 with 1 Axes>"
      ]
     },
     "metadata": {},
     "output_type": "display_data"
    }
   ],
   "source": [
    "plt.hist(x=hotel['lead_time'], bins=50)\n",
    "plt.show()"
   ]
  },
  {
   "cell_type": "code",
   "execution_count": 225,
   "id": "315b63bc",
   "metadata": {},
   "outputs": [
    {
     "data": {
      "text/plain": [
       "<Axes: xlabel='lead_time'>"
      ]
     },
     "execution_count": 225,
     "metadata": {},
     "output_type": "execute_result"
    },
    {
     "data": {
      "image/png": "[encoded data removed]",
      "text/plain": [
       "<Figure size 640x480 with 1 Axes>"
      ]
     },
     "metadata": {},
     "output_type": "display_data"
    }
   ],
   "source": [
    "sns.boxplot(x=hotel['lead_time'])"
   ]
  },
  {
   "cell_type": "markdown",
   "id": "d59b6e61",
   "metadata": {},
   "source": [
    "This means that the outliers are present in the data so we need to remove them,the max range is going till 400."
   ]
  },
  {
   "cell_type": "code",
   "execution_count": 227,
   "id": "80969796",
   "metadata": {},
   "outputs": [
    {
     "name": "stdout",
     "output_type": "stream",
     "text": [
      "Total rows: 118902\n",
      "Rows with lead_time > 400: 2114\n",
      "1.7779347698104322\n"
     ]
    }
   ],
   "source": [
    "print(\"Total rows:\", len(hotel))\n",
    "print(\"Rows with lead_time > 400:\", len(hotel[hotel['lead_time'] > 400]))\n",
    "print(2114/118902 *100)"
   ]
  },
  {
   "cell_type": "markdown",
   "id": "33c9c394",
   "metadata": {},
   "source": [
    "safe to remove since these rows are around 2% only!"
   ]
  },
  {
   "cell_type": "code",
   "execution_count": 228,
   "id": "42f2aa3e",
   "metadata": {},
   "outputs": [],
   "source": [
    "hotel= hotel[hotel['lead_time']<=400]"
   ]
  },
  {
   "cell_type": "code",
   "execution_count": 229,
   "id": "d2a8eb18",
   "metadata": {},
   "outputs": [
    {
     "data": {
      "text/plain": [
       "116788"
      ]
     },
     "execution_count": 229,
     "metadata": {},
     "output_type": "execute_result"
    }
   ],
   "source": [
    "len(hotel)"
   ]
  },
  {
   "cell_type": "code",
   "execution_count": 230,
   "id": "22c03cd5",
   "metadata": {},
   "outputs": [
    {
     "data": {
      "text/plain": [
       "<Axes: xlabel='lead_time'>"
      ]
     },
     "execution_count": 230,
     "metadata": {},
     "output_type": "execute_result"
    },
    {
     "data": {
      "image/png": "[encoded data removed]",
      "text/plain": [
       "<Figure size 640x480 with 1 Axes>"
      ]
     },
     "metadata": {},
     "output_type": "display_data"
    }
   ],
   "source": [
    "sns.boxplot(x=hotel['lead_time'])"
   ]
  },
  {
   "cell_type": "code",
   "execution_count": 232,
   "id": "1e83d174",
   "metadata": {},
   "outputs": [],
   "source": [
    "lead_cancel = hotel.groupby('lead_time')['is_canceled'].mean().reset_index()\n"
   ]
  },
  {
   "cell_type": "code",
   "execution_count": 233,
   "id": "e78e645b",
   "metadata": {},
   "outputs": [
    {
     "data": {
      "text/html": [
       "<div>\n",
       "<style scoped>\n",
       "    .dataframe tbody tr th:only-of-type {\n",
       "        vertical-align: middle;\n",
       "    }\n",
       "\n",
       "    .dataframe tbody tr th {\n",
       "        vertical-align: top;\n",
       "    }\n",
       "\n",
       "    .dataframe thead th {\n",
       "        text-align: right;\n",
       "    }\n",
       "</style>\n",
       "<table border=\"1\" class=\"dataframe\">\n",
       "  <thead>\n",
       "    <tr style=\"text-align: right;\">\n",
       "      <th></th>\n",
       "      <th>lead_time</th>\n",
       "      <th>is_canceled</th>\n",
       "    </tr>\n",
       "  </thead>\n",
       "  <tbody>\n",
       "    <tr>\n",
       "      <th>0</th>\n",
       "      <td>0</td>\n",
       "      <td>0.066849</td>\n",
       "    </tr>\n",
       "    <tr>\n",
       "      <th>1</th>\n",
       "      <td>1</td>\n",
       "      <td>0.093962</td>\n",
       "    </tr>\n",
       "    <tr>\n",
       "      <th>2</th>\n",
       "      <td>2</td>\n",
       "      <td>0.103736</td>\n",
       "    </tr>\n",
       "    <tr>\n",
       "      <th>3</th>\n",
       "      <td>3</td>\n",
       "      <td>0.100444</td>\n",
       "    </tr>\n",
       "    <tr>\n",
       "      <th>4</th>\n",
       "      <td>4</td>\n",
       "      <td>0.102005</td>\n",
       "    </tr>\n",
       "  </tbody>\n",
       "</table>\n",
       "</div>"
      ],
      "text/plain": [
       "   lead_time  is_canceled\n",
       "0          0     0.066849\n",
       "1          1     0.093962\n",
       "2          2     0.103736\n",
       "3          3     0.100444\n",
       "4          4     0.102005"
      ]
     },
     "execution_count": 233,
     "metadata": {},
     "output_type": "execute_result"
    }
   ],
   "source": [
    "lead_cancel.head()"
   ]
  },
  {
   "cell_type": "code",
   "execution_count": 238,
   "id": "c31e1f5c",
   "metadata": {},
   "outputs": [
    {
     "data": {
      "text/html": [
       "<div>\n",
       "<style scoped>\n",
       "    .dataframe tbody tr th:only-of-type {\n",
       "        vertical-align: middle;\n",
       "    }\n",
       "\n",
       "    .dataframe tbody tr th {\n",
       "        vertical-align: top;\n",
       "    }\n",
       "\n",
       "    .dataframe thead th {\n",
       "        text-align: right;\n",
       "    }\n",
       "</style>\n",
       "<table border=\"1\" class=\"dataframe\">\n",
       "  <thead>\n",
       "    <tr style=\"text-align: right;\">\n",
       "      <th></th>\n",
       "      <th>lead_time</th>\n",
       "      <th>is_canceled</th>\n",
       "    </tr>\n",
       "  </thead>\n",
       "  <tbody>\n",
       "    <tr>\n",
       "      <th>lead_time</th>\n",
       "      <td>1.000000</td>\n",
       "      <td>0.561309</td>\n",
       "    </tr>\n",
       "    <tr>\n",
       "      <th>is_canceled</th>\n",
       "      <td>0.561309</td>\n",
       "      <td>1.000000</td>\n",
       "    </tr>\n",
       "  </tbody>\n",
       "</table>\n",
       "</div>"
      ],
      "text/plain": [
       "             lead_time  is_canceled\n",
       "lead_time     1.000000     0.561309\n",
       "is_canceled   0.561309     1.000000"
      ]
     },
     "execution_count": 238,
     "metadata": {},
     "output_type": "execute_result"
    }
   ],
   "source": [
    "lead_cancel.corr()"
   ]
  },
  {
   "cell_type": "code",
   "execution_count": 239,
   "id": "960790c7",
   "metadata": {},
   "outputs": [
    {
     "data": {
      "text/plain": [
       "<Axes: >"
      ]
     },
     "execution_count": 239,
     "metadata": {},
     "output_type": "execute_result"
    },
    {
     "data": {
      "image/png": "[encoded data removed]",
      "text/plain": [
       "<Figure size 640x480 with 2 Axes>"
      ]
     },
     "metadata": {},
     "output_type": "display_data"
    }
   ],
   "source": [
    "sns.heatmap(lead_cancel.corr())"
   ]
  },
  {
   "cell_type": "markdown",
   "id": "1d639caa",
   "metadata": {},
   "source": [
    "It is showing strong corelation between the cancellation and lead time, so longer lead time(pre-booking) means the chances of cancellation increases."
   ]
  },
  {
   "cell_type": "code",
   "execution_count": 237,
   "id": "6fa77353",
   "metadata": {},
   "outputs": [
    {
     "data": {
      "image/png": "[encoded data removed]",
      "text/plain": [
       "<Figure size 1000x500 with 1 Axes>"
      ]
     },
     "metadata": {},
     "output_type": "display_data"
    }
   ],
   "source": [
    "plt.figure(figsize=(10,5))\n",
    "sns.lineplot(data= lead_cancel, x='lead_time', y= 'is_canceled')\n",
    "\n",
    "plt.ylabel(\"Cancelled lead\")\n",
    "plt.xlabel(\"Lead time\")\n",
    "plt.title(\"lead time vs cancelation\")\n",
    "plt.show()"
   ]
  },
  {
   "cell_type": "markdown",
   "id": "fb00819a",
   "metadata": {},
   "source": [
    "# Q8. What is the distribution of stays (weekday vs weekend)?"
   ]
  },
  {
   "cell_type": "code",
   "execution_count": 240,
   "id": "8cd8aca6",
   "metadata": {},
   "outputs": [
    {
     "data": {
      "text/plain": [
       "Index(['hotel', 'is_canceled', 'lead_time', 'arrival_date_year',\n",
       "       'arrival_date_month', 'arrival_date_week_number',\n",
       "       'arrival_date_day_of_month', 'stays_in_weekend_nights',\n",
       "       'stays_in_week_nights', 'adults', 'children', 'babies', 'meal',\n",
       "       'country', 'market_segment', 'distribution_channel',\n",
       "       'is_repeated_guest', 'previous_cancellations',\n",
       "       'previous_bookings_not_canceled', 'reserved_room_type',\n",
       "       'assigned_room_type', 'booking_changes', 'deposit_type', 'agent',\n",
       "       'company', 'days_in_waiting_list', 'customer_type', 'adr',\n",
       "       'required_car_parking_spaces', 'total_of_special_requests',\n",
       "       'reservation_status', 'reservation_status_date'],\n",
       "      dtype='object')"
      ]
     },
     "execution_count": 240,
     "metadata": {},
     "output_type": "execute_result"
    }
   ],
   "source": [
    "hotel.columns"
   ]
  },
  {
   "cell_type": "code",
   "execution_count": 250,
   "id": "6ef4dbce",
   "metadata": {},
   "outputs": [],
   "source": [
    "weekday_counts = hotel['stays_in_week_nights'].value_counts().sort_index()"
   ]
  },
  {
   "cell_type": "code",
   "execution_count": 249,
   "id": "99a6a455",
   "metadata": {},
   "outputs": [],
   "source": [
    "weekend_counts=hotel['stays_in_weekend_nights'].value_counts().sort_index()"
   ]
  },
  {
   "cell_type": "code",
   "execution_count": 247,
   "id": "0d1610c1",
   "metadata": {},
   "outputs": [
    {
     "name": "stdout",
     "output_type": "stream",
     "text": [
      "Weekend total stays: 109398\n",
      "Weekday total stays: 293331\n"
     ]
    }
   ],
   "source": [
    "print(\"Weekend total stays:\", hotel['stays_in_weekend_nights'].sum())\n",
    "print(\"Weekday total stays:\", hotel['stays_in_week_nights'].sum())\n"
   ]
  },
  {
   "cell_type": "code",
   "execution_count": 251,
   "id": "8926e90e",
   "metadata": {},
   "outputs": [
    {
     "name": "stderr",
     "output_type": "stream",
     "text": [
      "C:\\Users\\Dell\\AppData\\Local\\Temp\\ipykernel_4076\\2082776869.py:5: FutureWarning: \n",
      "\n",
      "Passing `palette` without assigning `hue` is deprecated and will be removed in v0.14.0. Assign the `x` variable to `hue` and set `legend=False` for the same effect.\n",
      "\n",
      "  sns.barplot(x=weekend_counts.index, y=weekend_counts.values, palette='pastel')\n",
      "C:\\Users\\Dell\\AppData\\Local\\Temp\\ipykernel_4076\\2082776869.py:12: FutureWarning: \n",
      "\n",
      "Passing `palette` without assigning `hue` is deprecated and will be removed in v0.14.0. Assign the `x` variable to `hue` and set `legend=False` for the same effect.\n",
      "\n",
      "  sns.barplot(x=weekday_counts.index, y=weekday_counts.values, palette='muted')\n"
     ]
    },
    {
     "data": {
      "image/png": "[encoded data removed]",
      "text/plain": [
       "<Figure size 1400x600 with 2 Axes>"
      ]
     },
     "metadata": {},
     "output_type": "display_data"
    }
   ],
   "source": [
    "plt.figure(figsize=(14, 6))\n",
    "\n",
    "# Weekend\n",
    "plt.subplot(1, 2, 1)\n",
    "sns.barplot(x=weekend_counts.index, y=weekend_counts.values, palette='pastel')\n",
    "plt.title('Weekend Night Stays')\n",
    "plt.xlabel('Number of Weekend Nights')\n",
    "plt.ylabel('Number of Bookings')\n",
    "\n",
    "# Weekday\n",
    "plt.subplot(1, 2, 2)\n",
    "sns.barplot(x=weekday_counts.index, y=weekday_counts.values, palette='muted')\n",
    "plt.title('Weekday Night Stays')\n",
    "plt.xlabel('Number of Week Nights')\n",
    "plt.ylabel('Number of Bookings')\n",
    "\n",
    "plt.tight_layout()\n",
    "plt.show()"
   ]
  },
  {
   "cell_type": "markdown",
   "id": "4acf7313",
   "metadata": {},
   "source": [
    "#### Ans: This tells that weekday stays are more common rather than the weekend stays."
   ]
  },
  {
   "cell_type": "code",
   "execution_count": null,
   "id": "c99cf9c8",
   "metadata": {},
   "outputs": [],
   "source": []
  },
  {
   "cell_type": "markdown",
   "id": "8ec17787",
   "metadata": {},
   "source": [
    "# Q9. Which countries have the highest number of bookings?"
   ]
  },
  {
   "cell_type": "code",
   "execution_count": 256,
   "id": "af04e4f3",
   "metadata": {},
   "outputs": [
    {
     "name": "stdout",
     "output_type": "stream",
     "text": [
      "counts: country\n",
      "PRT    47036\n",
      "GBR    11938\n",
      "FRA    10387\n",
      "ESP     8568\n",
      "DEU     7025\n",
      "       ...  \n",
      "LCA        1\n",
      "GUY        1\n",
      "PYF        1\n",
      "DMA        1\n",
      "NAM        1\n",
      "Name: count, Length: 177, dtype: int64 \n",
      "\n",
      "duplicates: 116611 \n",
      "\n",
      "nulls: 0 \n",
      "\n",
      "count     116788\n",
      "unique       177\n",
      "top          PRT\n",
      "freq       47036\n",
      "Name: country, dtype: object\n"
     ]
    }
   ],
   "source": [
    "\n",
    "print(\"counts:\",hotel['country'].value_counts().sort_values(ascending=False),'\\n')\n",
    "print('duplicates:',hotel['country'].duplicated().sum(), '\\n')\n",
    "print('nulls:',hotel['country'].isna().sum(), '\\n')\n",
    "print(hotel['country'].describe())"
   ]
  },
  {
   "cell_type": "code",
   "execution_count": null,
   "id": "723011d4",
   "metadata": {},
   "outputs": [],
   "source": []
  }
 ],
 "metadata": {
  "kernelspec": {
   "display_name": "base",
   "language": "python",
   "name": "python3"
  },
  "language_info": {
   "codemirror_mode": {
    "name": "ipython",
    "version": 3
   },
   "file_extension": ".py",
   "mimetype": "text/x-python",
   "name": "python",
   "nbconvert_exporter": "python",
   "pygments_lexer": "ipython3",
   "version": "3.12.4"
  }
 },
 "nbformat": 4,
 "nbformat_minor": 5
}
